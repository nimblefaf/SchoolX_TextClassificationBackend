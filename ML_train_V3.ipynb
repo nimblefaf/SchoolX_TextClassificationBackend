{
 "cells": [
  {
   "cell_type": "code",
   "execution_count": 1,
   "metadata": {},
   "outputs": [],
   "source": [
    "%reload_ext autoreload\n",
    "%autoreload 2\n",
    "%matplotlib inline\n",
    "import os\n",
    "os.environ[\"CUDA_DEVICE_ORDER\"]=\"PCI_BUS_ID\";\n",
    "os.environ[\"CUDA_VISIBLE_DEVICES\"]=\"0\";"
   ]
  },
  {
   "cell_type": "code",
   "execution_count": 2,
   "metadata": {},
   "outputs": [
    {
     "name": "stderr",
     "output_type": "stream",
     "text": [
      "/home/umbra/.local/lib/python3.10/site-packages/tqdm/auto.py:21: TqdmWarning: IProgress not found. Please update jupyter and ipywidgets. See https://ipywidgets.readthedocs.io/en/stable/user_install.html\n",
      "  from .autonotebook import tqdm as notebook_tqdm\n"
     ]
    }
   ],
   "source": [
    "import ktrain\n",
    "from ktrain import text"
   ]
  },
  {
   "cell_type": "code",
   "execution_count": 4,
   "metadata": {},
   "outputs": [
    {
     "name": "stdout",
     "output_type": "stream",
     "text": [
      "detected encoding: utf-8 (if wrong, set manually)\n",
      "['Computer Science', 'Physics', 'Mathematics', 'Statistics', 'Quantitative Biology', 'Quantitative Finance', 'Geodesy', 'Geology', 'Neftegas']\n",
      "       Computer Science  Physics  Mathematics  Statistics  \\\n",
      "746                   1        0            0           0   \n",
      "6385                  0        0            0           0   \n",
      "11545                 0        1            0           0   \n",
      "19606                 0        1            0           0   \n",
      "18934                 1        0            0           0   \n",
      "\n",
      "       Quantitative Biology  Quantitative Finance  Geodesy  Geology  Neftegas  \n",
      "746                       0                     0        0        0         0  \n",
      "6385                      0                     1        0        0         0  \n",
      "11545                     0                     0        0        0         0  \n",
      "19606                     0                     0        0        0         0  \n",
      "18934                     0                     0        0        0         0  \n",
      "['Computer Science', 'Physics', 'Mathematics', 'Statistics', 'Quantitative Biology', 'Quantitative Finance', 'Geodesy', 'Geology', 'Neftegas']\n",
      "       Computer Science  Physics  Mathematics  Statistics  \\\n",
      "1402                  1        0            0           1   \n",
      "16144                 0        0            0           0   \n",
      "2851                  1        0            0           0   \n",
      "3765                  0        0            1           0   \n",
      "2376                  1        0            0           1   \n",
      "\n",
      "       Quantitative Biology  Quantitative Finance  Geodesy  Geology  Neftegas  \n",
      "1402                      0                     0        0        0         0  \n",
      "16144                     0                     1        0        0         0  \n",
      "2851                      0                     0        0        0         0  \n",
      "3765                      0                     0        0        0         0  \n",
      "2376                      0                     0        0        0         0  \n",
      "preprocessing train...\n",
      "language: en\n",
      "train sequence lengths:\n",
      "\tmean : 152\n",
      "\t95percentile : 260\n",
      "\t99percentile : 299\n"
     ]
    },
    {
     "data": {
      "text/html": [
       "\n",
       "<style>\n",
       "    /* Turns off some styling */\n",
       "    progress {\n",
       "        /* gets rid of default border in Firefox and Opera. */\n",
       "        border: none;\n",
       "        /* Needs to be in here for Safari polyfill so background images work as expected. */\n",
       "        background-size: auto;\n",
       "    }\n",
       "    progress:not([value]), progress:not([value])::-webkit-progress-bar {\n",
       "        background: repeating-linear-gradient(45deg, #7e7e7e, #7e7e7e 10px, #5c5c5c 10px, #5c5c5c 20px);\n",
       "    }\n",
       "    .progress-bar-interrupted, .progress-bar-interrupted::-webkit-progress-bar {\n",
       "        background: #F44336;\n",
       "    }\n",
       "</style>\n"
      ],
      "text/plain": [
       "<IPython.core.display.HTML object>"
      ]
     },
     "metadata": {},
     "output_type": "display_data"
    },
    {
     "data": {
      "text/html": [],
      "text/plain": [
       "<IPython.core.display.HTML object>"
      ]
     },
     "metadata": {},
     "output_type": "display_data"
    },
    {
     "name": "stdout",
     "output_type": "stream",
     "text": [
      "Is Multi-Label? True\n",
      "preprocessing test...\n",
      "language: en\n",
      "test sequence lengths:\n",
      "\tmean : 152\n",
      "\t95percentile : 259\n",
      "\t99percentile : 296\n"
     ]
    },
    {
     "data": {
      "text/html": [
       "\n",
       "<style>\n",
       "    /* Turns off some styling */\n",
       "    progress {\n",
       "        /* gets rid of default border in Firefox and Opera. */\n",
       "        border: none;\n",
       "        /* Needs to be in here for Safari polyfill so background images work as expected. */\n",
       "        background-size: auto;\n",
       "    }\n",
       "    progress:not([value]), progress:not([value])::-webkit-progress-bar {\n",
       "        background: repeating-linear-gradient(45deg, #7e7e7e, #7e7e7e 10px, #5c5c5c 10px, #5c5c5c 20px);\n",
       "    }\n",
       "    .progress-bar-interrupted, .progress-bar-interrupted::-webkit-progress-bar {\n",
       "        background: #F44336;\n",
       "    }\n",
       "</style>\n"
      ],
      "text/plain": [
       "<IPython.core.display.HTML object>"
      ]
     },
     "metadata": {},
     "output_type": "display_data"
    },
    {
     "data": {
      "text/html": [],
      "text/plain": [
       "<IPython.core.display.HTML object>"
      ]
     },
     "metadata": {},
     "output_type": "display_data"
    }
   ],
   "source": [
    "DATA_PATH = './datasets/combined_v1.1.csv'\n",
    "MAXLEN = 500\n",
    "trn, val, preproc = text.texts_from_csv(DATA_PATH,\n",
    "                     'TEXT',\n",
    "                      label_columns = ['Computer Science' , 'Physics', 'Mathematics', 'Statistics', 'Quantitative Biology', 'Quantitative Finance', 'Geodesy', 'Geology', 'Neftegas'],\n",
    "                      val_filepath=None, # if None, 10% of data will be used for validation\n",
    "                      maxlen=MAXLEN,\n",
    "                      preprocess_mode='distilbert',\n",
    "                      ngram_range=1)"
   ]
  },
  {
   "cell_type": "code",
   "execution_count": 5,
   "metadata": {},
   "outputs": [
    {
     "name": "stdout",
     "output_type": "stream",
     "text": [
      "Is Multi-Label? True\n",
      "maxlen is 500\n",
      "done.\n"
     ]
    }
   ],
   "source": [
    "model = text.text_classifier('distilbert', trn , preproc=preproc)"
   ]
  },
  {
   "cell_type": "code",
   "execution_count": 6,
   "metadata": {},
   "outputs": [],
   "source": [
    "learner = ktrain.get_learner(model, \n",
    "                             train_data=trn, \n",
    "                             val_data=val, \n",
    "                             batch_size=6)"
   ]
  },
  {
   "cell_type": "code",
   "execution_count": 7,
   "metadata": {},
   "outputs": [
    {
     "name": "stdout",
     "output_type": "stream",
     "text": [
      "simulating training for different learning rates... this may take a few moments...\n",
      "Epoch 1/1024\n",
      "3174/3174 [==============================] - 394s 121ms/step - loss: 1707.2828 - binary_accuracy: 0.8660\n",
      "\n",
      "\n",
      "done.\n",
      "Please invoke the Learner.lr_plot() method to visually inspect the loss plot to help identify the maximal learning rate associated with falling loss.\n"
     ]
    }
   ],
   "source": [
    "learner.lr_find()"
   ]
  },
  {
   "cell_type": "code",
   "execution_count": 8,
   "metadata": {},
   "outputs": [
    {
     "name": "stdout",
     "output_type": "stream",
     "text": [
      "Three possible suggestions for LR from plot:\n",
      "\tLongest valley (red): 7.55E-05\n",
      "\tMin numerical gradient (purple): 1.55E-05\n",
      "\tMin loss divided by 10 (omitted from plot): 4.86E-03\n"
     ]
    },
    {
     "data": {
      "image/png": "[encoded data removed]",
      "text/plain": [
       "<Figure size 640x480 with 1 Axes>"
      ]
     },
     "metadata": {},
     "output_type": "display_data"
    }
   ],
   "source": [
    "learner.lr_plot(suggest=True)"
   ]
  },
  {
   "cell_type": "code",
   "execution_count": 9,
   "metadata": {},
   "outputs": [
    {
     "name": "stdout",
     "output_type": "stream",
     "text": [
      "\n",
      "\n",
      "begin training using onecycle policy with max lr of 1.55e-05...\n",
      "Epoch 1/3\n",
      "3175/3175 [==============================] - 756s 236ms/step - loss: 0.1956 - accuracy: 0.7278 - val_loss: 0.1308 - val_accuracy: 0.7685\n",
      "Epoch 2/3\n",
      "3175/3175 [==============================] - 751s 236ms/step - loss: 0.1153 - accuracy: 0.7744 - val_loss: 0.1155 - val_accuracy: 0.7539\n",
      "Epoch 3/3\n",
      "3175/3175 [==============================] - 749s 236ms/step - loss: 0.0889 - accuracy: 0.8043 - val_loss: 0.1148 - val_accuracy: 0.7482\n"
     ]
    },
    {
     "data": {
      "text/plain": [
       "<keras.src.callbacks.History at 0x7f8eed4a09a0>"
      ]
     },
     "execution_count": 9,
     "metadata": {},
     "output_type": "execute_result"
    }
   ],
   "source": [
    "# 2e-5 is one of the LRs  recommended by Google and is consistent with the plot above.\n",
    "learner.fit_onecycle(1.55E-05, 3)"
   ]
  },
  {
   "cell_type": "code",
   "execution_count": 10,
   "metadata": {},
   "outputs": [
    {
     "name": "stdout",
     "output_type": "stream",
     "text": [
      "67/67 [==============================] - 25s 363ms/step\n",
      "              precision    recall  f1-score   support\n",
      "\n",
      "           0       0.82      0.88      0.85       879\n",
      "           1       0.90      0.86      0.88       587\n",
      "           2       0.85      0.81      0.83       561\n",
      "           3       0.76      0.77      0.76       535\n",
      "           4       0.73      0.53      0.62        77\n",
      "           5       0.82      0.58      0.68        24\n",
      "           6       1.00      0.25      0.40         4\n",
      "           7       1.00      0.33      0.50         6\n",
      "           8       1.00      1.00      1.00         5\n",
      "\n",
      "   micro avg       0.83      0.82      0.83      2678\n",
      "   macro avg       0.88      0.67      0.72      2678\n",
      "weighted avg       0.83      0.82      0.83      2678\n",
      " samples avg       0.85      0.86      0.83      2678\n",
      "\n"
     ]
    },
    {
     "name": "stderr",
     "output_type": "stream",
     "text": [
      "/home/umbra/.local/lib/python3.10/site-packages/ktrain/core.py:226: UserWarning: Confusion matrices do not currently support multilabel classification, so returning None\n",
      "  warnings.warn(\n"
     ]
    }
   ],
   "source": [
    "learner.evaluate()"
   ]
  },
  {
   "cell_type": "markdown",
   "metadata": {},
   "source": [
    "predictions"
   ]
  },
  {
   "cell_type": "code",
   "execution_count": 11,
   "metadata": {},
   "outputs": [],
   "source": [
    "predictor = ktrain.get_predictor(learner.model, preproc)"
   ]
  },
  {
   "cell_type": "code",
   "execution_count": 12,
   "metadata": {},
   "outputs": [],
   "source": [
    "data = [ 'Maxwell equations (the so called stochastic MLLG system) describes the creation of domain walls and vortices (fundamental objects for the novel nanostructured magnetic memories). We first reformulate the stochastic LLG equation into an equation with time-differentiable solutions. We then propose a convergent $\\theta$-linear scheme to approximate the solutions of the reformulated system. As a consequence, we prove convergence of the approximate solutions, with no or minor conditions on time and space steps (depending on the value of $\\theta$). Hence, we prove the existence of weak martingale solutions of the stochastic  MLLG system. Numerical results are presented to show applicability of the ethod.']"
   ]
  },
  {
   "cell_type": "code",
   "execution_count": 13,
   "metadata": {},
   "outputs": [
    {
     "data": {
      "text/plain": [
       "[[('Computer Science', 0.078553006),\n",
       "  ('Physics', 0.24801277),\n",
       "  ('Mathematics', 0.92527044),\n",
       "  ('Statistics', 0.005351793),\n",
       "  ('Quantitative Biology', 0.0019710483),\n",
       "  ('Quantitative Finance', 0.00071376027),\n",
       "  ('Geodesy', 0.00022365741),\n",
       "  ('Geology', 0.00015908504),\n",
       "  ('Neftegas', 0.00017356548)]]"
      ]
     },
     "execution_count": 13,
     "metadata": {},
     "output_type": "execute_result"
    }
   ],
   "source": [
    "predictor.predict(data)"
   ]
  },
  {
   "cell_type": "markdown",
   "metadata": {},
   "source": [
    "['geodesy', 'geology', 'math', 'neftegas_texts']"
   ]
  },
  {
   "cell_type": "code",
   "execution_count": 14,
   "metadata": {},
   "outputs": [
    {
     "data": {
      "text/plain": [
       "array([[7.8553006e-02, 2.4801277e-01, 9.2527044e-01, 5.3517930e-03,\n",
       "        1.9710483e-03, 7.1376027e-04, 2.2365741e-04, 1.5908504e-04,\n",
       "        1.7356548e-04]], dtype=float32)"
      ]
     },
     "execution_count": 14,
     "metadata": {},
     "output_type": "execute_result"
    }
   ],
   "source": [
    "predictor.predict(data, return_proba=True)"
   ]
  },
  {
   "cell_type": "code",
   "execution_count": 15,
   "metadata": {},
   "outputs": [],
   "source": [
    "predictor.save('./trained_models/topics_predictor_v3.2')"
   ]
  },
  {
   "cell_type": "code",
   "execution_count": null,
   "metadata": {},
   "outputs": [],
   "source": []
  }
 ],
 "metadata": {
  "kernelspec": {
   "display_name": "Python 3",
   "language": "python",
   "name": "python3"
  },
  "language_info": {
   "codemirror_mode": {
    "name": "ipython",
    "version": 3
   },
   "file_extension": ".py",
   "mimetype": "text/x-python",
   "name": "python",
   "nbconvert_exporter": "python",
   "pygments_lexer": "ipython3",
   "version": "3.10.12"
  }
 },
 "nbformat": 4,
 "nbformat_minor": 2
}
